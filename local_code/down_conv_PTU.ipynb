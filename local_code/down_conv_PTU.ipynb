{
 "cells": [
  {
   "cell_type": "markdown",
   "metadata": {},
   "source": [
    "## Heralded Coincidence Time trace\n",
    "\n",
    "For this section, we would like to produce a Coinciden Time Trace Plot of our heralded photon experiment.\n",
    "The required imports are as followed:"
   ]
  },
  {
   "cell_type": "code",
   "execution_count": 1,
   "metadata": {},
   "outputs": [
    {
     "name": "stdout",
     "output_type": "stream",
     "text": [
      "Switched to: TkAgg\n"
     ]
    }
   ],
   "source": [
    "from snAPI.Main import *\n",
    "import matplotlib\n",
    "matplotlib.use('TkAgg',force=True)\n",
    "from matplotlib import pyplot as plt\n",
    "print(\"Switched to:\",matplotlib.get_backend())"
   ]
  },
  {
   "cell_type": "markdown",
   "metadata": {},
   "source": [
    "The usage of snAPI modules are Object Oriented Based, which meant that you would have to initialise an object class."
   ]
  },
  {
   "cell_type": "code",
   "execution_count": 2,
   "metadata": {},
   "outputs": [],
   "source": [
    "sn = snAPI()"
   ]
  },
  {
   "cell_type": "markdown",
   "metadata": {},
   "source": [
    "Since we are analysizing a PTU file instead of spontaneously obtaining measurements from the TimeHarp 260 Nano, we only need sn.getFileDevice(). If we were spontaneously obtaining measurements on the fly, we would have required sn.getDevice().\n",
    "\n",
    "We also need to set the measuring mode. we have ours set to MeasMode.T2, which basically meant that out measurements only took 2 channels, channel 1 and channel 2.(T3 would include an extra sync channel)\n",
    "\n",
    "There is also a need to setup the sn object to include the configuration for TH260N."
   ]
  },
  {
   "cell_type": "code",
   "execution_count": 3,
   "metadata": {},
   "outputs": [
    {
     "name": "stderr",
     "output_type": "stream",
     "text": [
      "<>:4: SyntaxWarning: invalid escape sequence '\\T'\n",
      "<>:4: SyntaxWarning: invalid escape sequence '\\T'\n",
      "C:\\Users\\andre\\AppData\\Local\\Temp\\ipykernel_18812\\2789257668.py:4: SyntaxWarning: invalid escape sequence '\\T'\n",
      "  sn.loadIniConfig(\"config\\TH260N.ini\")\n"
     ]
    },
    {
     "data": {
      "text/plain": [
       "0"
      ]
     },
     "execution_count": 3,
     "metadata": {},
     "output_type": "execute_result"
    }
   ],
   "source": [
    "sn.getFileDevice(r\"antibunch.sptw\\down_con_herald2.ptu\")\n",
    "sn.setLogLevel(LogLevel.DataFile, True) # might be optional, it looks like a debug function\n",
    "sn.initDevice(MeasMode.T2)\n",
    "sn.loadIniConfig(\"config\\TH260N.ini\")"
   ]
  },
  {
   "cell_type": "markdown",
   "metadata": {},
   "source": [
    "The remaining code pertains to setting the configuration of the plot."
   ]
  },
  {
   "cell_type": "code",
   "execution_count": 4,
   "metadata": {},
   "outputs": [],
   "source": [
    "\n",
    "\n",
    "# what is window time\n",
    "coincidenceAll = sn.manipulators.coincidence([1,2], windowTime=1e7, mode=CoincidenceMode.CountAll, keepChannels=True)\n",
    "coincidenceOnce = sn.manipulators.coincidence([1,2], windowTime=1e7, mode=CoincidenceMode.CountOnce, keepChannels=True)\n",
    "\n",
    "# the number of bins we need is rougthly 1000s (round up from 714s) divided by the average period of coincidence which is 1ms,\n",
    "# we should expect to see around 1 coincidence or so on the countrate axis, but instead it's a few orders more\n",
    "# expecting 1 coincidence per millisecond\n",
    "sn.timeTrace.setNumBins(10000) # 1000s/10ms = 10_000\n",
    "\n",
    "# Our acqusition time was 714 seconds, so we plot for 720s\n",
    "sn.timeTrace.setHistorySize(720) # 720s\n",
    "\n",
    "# 10000 is ignore when we use a PTU file instead, only relevant when connected to device\n",
    "sn.timeTrace.measure(10000, waitFinished=True, savePTU=False)\n",
    "\n",
    "counts, times = sn.timeTrace.getData()\n",
    "plt.clf()\n",
    "\n",
    "#what's the difference between coincidence all and coincidence once\n",
    "plt.plot(times, counts[coincidenceAll], linewidth=2.0, label='coincidenceAll')\n",
    "plt.plot(times, counts[coincidenceOnce], linewidth=2.0, label='coincidenceOnce')\n",
    "\n",
    "plt.xlabel('Time [s]')\n",
    "plt.ylabel('Counts[Cts/10ms]')\n",
    "plt.legend()\n",
    "plt.title(\"TimeTrace\")\n",
    "plt.show()"
   ]
  },
  {
   "cell_type": "markdown",
   "metadata": {},
   "source": [
    "Below is a HeraldedCorrelationG2 "
   ]
  },
  {
   "cell_type": "code",
   "execution_count": 5,
   "metadata": {},
   "outputs": [],
   "source": [
    "# from snAPI.Main import *\n",
    "# import matplotlib\n",
    "# matplotlib.use('TkAgg',force=True)\n",
    "# from matplotlib import pyplot as plt\n",
    "# print(\"Switched to:\",matplotlib.get_backend())\n",
    "# import time\n",
    "\n",
    "# if(__name__ == \"__main__\"):\n",
    "\n",
    "#     sn = snAPI()\n",
    "    \n",
    "#     sn.getFileDevice(r\"antibunch.sptw\\down_con_herald2.ptu\")\n",
    "#     sn.initDevice(MeasMode.T2)\n",
    "#     sn.loadIniConfig(\"config\\TH260N.ini\")\n",
    "    \n",
    "#     #windowSize = 2000 #ps\n",
    "#     windowSize = 2000\n",
    "#     #windowSize = 2000000000000 #ps\n",
    "\n",
    "#     # move the histograms of the both channels to the same time after the sync to filter both at once\n",
    "#     sn.device.setInputChannelOffset(0,-4000)\n",
    "\n",
    "#     # measure the count rate before the herald filter\n",
    "#     CrInIdx = sn.manipulators.countrate()\n",
    "    \n",
    "#     # define a gate window after the herald channel 0 (sync) for the detector channels 1 and 2, \n",
    "#     # starting at 52000 ps after the herald signal , with a gate length of windowSize (300 ps)\n",
    "#     heraldChans = sn.manipulators.herald(0, [1,2], 46000, windowSize, inverted=False, keepChannels=True )\n",
    "    \n",
    "#     # measure the count rate after the herald filter\n",
    "#     CrOutIdx = sn.manipulators.countrate()\n",
    "\n",
    "#     # initiate the g2 correlation with the time-gated channels\n",
    "#     sn.correlation.setG2Parameters(heraldChans[0], heraldChans[1], windowSize, 1)\n",
    "#     sn.correlation.measure(10000,savePTU=False)\n",
    "\n",
    "#     while True:\n",
    "#         finished = sn.correlation.isFinished()\n",
    "#         data, bins = sn.correlation.getG2Data()\n",
    "        \n",
    "#         CRin = sn.manipulators.getCountrates(CrInIdx)\n",
    "#         CRout = sn.manipulators.getCountrates(CrOutIdx)\n",
    "        \n",
    "#         # print the count rates\n",
    "#         sn.logPrint(f\"CR in: {CRin[1]}, {CRin[2]} - out: {CRout[heraldChans[0]]}, {CRout[heraldChans[1]]}\")\n",
    "        \n",
    "#         time.sleep(.3)\n",
    "        \n",
    "#         plt.clf()\n",
    "#         plt.plot(bins, data, linewidth=2.0, label='g(2)')\n",
    "#         plt.xlabel('Time [s]')\n",
    "#         plt.ylabel('g(2)')\n",
    "#         plt.legend()\n",
    "#         plt.title(\"g(2)\")\n",
    "#         plt.pause(0.1)\n",
    "        \n",
    "#         if finished:\n",
    "#             break\n",
    "    \n",
    "#     plt.show(block=True)"
   ]
  }
 ],
 "metadata": {
  "kernelspec": {
   "display_name": "Python 3",
   "language": "python",
   "name": "python3"
  },
  "language_info": {
   "codemirror_mode": {
    "name": "ipython",
    "version": 3
   },
   "file_extension": ".py",
   "mimetype": "text/x-python",
   "name": "python",
   "nbconvert_exporter": "python",
   "pygments_lexer": "ipython3",
   "version": "3.12.4"
  }
 },
 "nbformat": 4,
 "nbformat_minor": 2
}
